{
 "cells": [
  {
   "cell_type": "code",
   "execution_count": null,
   "metadata": {},
   "outputs": [
    {
     "name": "stdout",
     "output_type": "stream",
     "text": [
      "Password removed successfully. Output saved as: output.pdf\n"
     ]
    }
   ],
   "source": [
    "from PyPDF2 import PdfReader, PdfWriter\n",
    "\n",
    "def remove_pdf_password(input_path: str, output_path: str, password: str) -> bool:\n",
    "    try:\n",
    "        # Open and decrypt the PDF\n",
    "        reader = PdfReader(input_path)\n",
    "        if reader.decrypt(password) == 0:\n",
    "            raise ValueError(\"Invalid password\")\n",
    "            \n",
    "        # Create new PDF without password\n",
    "        writer = PdfWriter()\n",
    "        for page in reader.pages:\n",
    "            writer.add_page(page)\n",
    "            \n",
    "        # Save the unprotected PDF    \n",
    "        with open(output_path, \"wb\") as output_file:\n",
    "            writer.write(output_file)\n",
    "            \n",
    "        return True\n",
    "        \n",
    "    except Exception as e:\n",
    "        print(f\"Error processing PDF: {str(e)}\")\n",
    "        return False\n",
    "\n",
    "def main():\n",
    "    # Configuration\n",
    "    INPUT_PDF = \"Protected.pdf\"\n",
    "    OUTPUT_PDF = \"output.pdf\" \n",
    "    PASSWORD = \"a@055025\"\n",
    "    \n",
    "    # Process the PDF\n",
    "    success = remove_pdf_password(INPUT_PDF, OUTPUT_PDF, PASSWORD)\n",
    "    \n",
    "    if success:\n",
    "        print(f\"Password removed successfully. Output saved as: {OUTPUT_PDF}\")\n",
    "    else:\n",
    "        print(\"Failed to remove PDF password\")\n",
    "if __name__ == \"__main__\":\n",
    "    main()"
   ]
  }
 ],
 "metadata": {
  "kernelspec": {
   "display_name": "Python 3",
   "language": "python",
   "name": "python3"
  },
  "language_info": {
   "codemirror_mode": {
    "name": "ipython",
    "version": 3
   },
   "file_extension": ".py",
   "mimetype": "text/x-python",
   "name": "python",
   "nbconvert_exporter": "python",
   "pygments_lexer": "ipython3",
   "version": "3.12.6"
  }
 },
 "nbformat": 4,
 "nbformat_minor": 2
}
